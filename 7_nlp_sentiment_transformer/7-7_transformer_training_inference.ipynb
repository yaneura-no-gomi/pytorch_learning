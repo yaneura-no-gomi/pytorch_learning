{
 "cells": [
  {
   "cell_type": "code",
   "execution_count": 27,
   "metadata": {},
   "outputs": [],
   "source": [
    "# パッケージのimport\n",
    "import numpy as np\n",
    "import random\n",
    "\n",
    "import torch\n",
    "import torch.nn as nn\n",
    "import torch.optim as optim\n",
    "\n",
    "import torchtext"
   ]
  },
  {
   "cell_type": "code",
   "execution_count": 28,
   "metadata": {},
   "outputs": [],
   "source": [
    "torch.manual_seed(1234)\n",
    "np.random.seed(1234)\n",
    "random.seed(1234)"
   ]
  },
  {
   "cell_type": "code",
   "execution_count": 29,
   "metadata": {},
   "outputs": [],
   "source": [
    "from utils.dataloader import get_IMDb_DataLoaders_and_TEXT\n",
    "\n",
    "# 読み込み\n",
    "train_dl, val_dl, test_dl, TEXT = get_IMDb_DataLoaders_and_TEXT(\n",
    "    max_length=256, batch_size=64)\n",
    "\n",
    "# 辞書オブジェクトにまとめる\n",
    "dataloaders_dict = {\"train\": train_dl, \"val\": val_dl}"
   ]
  },
  {
   "cell_type": "code",
   "execution_count": 30,
   "metadata": {},
   "outputs": [
    {
     "name": "stdout",
     "output_type": "stream",
     "text": [
      "ネットワーク設定完了\n"
     ]
    }
   ],
   "source": [
    "from utils.transformer import TransformerClassification\n",
    "\n",
    "# モデル構築\n",
    "net = TransformerClassification(\n",
    "    text_embedding_vectors=TEXT.vocab.vectors, d_model=300, max_seq_len=256, output_dim=2)\n",
    "\n",
    "# ネットワークの初期化を定義\n",
    "\n",
    "\n",
    "def weights_init(m):\n",
    "    classname = m.__class__.__name__\n",
    "    with torch.no_grad():\n",
    "        if classname.find('Linear') != -1:\n",
    "            # Liner層の初期化\n",
    "            nn.init.kaiming_normal_(m.weight)\n",
    "            if m.bias is not None:\n",
    "                nn.init.constant_(m.bias, 0.0)\n",
    "\n",
    "\n",
    "# 訓練モードに設定\n",
    "net.train()\n",
    "\n",
    "# TransformerBlockモジュールを初期化実行\n",
    "net.net3_1.apply(weights_init)\n",
    "net.net3_2.apply(weights_init)\n",
    "\n",
    "\n",
    "print('ネットワーク設定完了')\n"
   ]
  },
  {
   "cell_type": "code",
   "execution_count": 31,
   "metadata": {},
   "outputs": [],
   "source": [
    "criterion = nn.CrossEntropyLoss()\n",
    "learning_rate = 2e-5\n",
    "optimizer = optim.Adam(net.parameters(), lr=learning_rate)"
   ]
  },
  {
   "cell_type": "code",
   "execution_count": 32,
   "metadata": {},
   "outputs": [],
   "source": [
    "def train_model(net, dataloaders_dict, criterion, optimizer, num_epochs):\n",
    "    device = torch.device(\"cuda:0\" if torch.cuda.is_available() else \"cpu\")\n",
    "    print(\"使用デバイス：\", device)\n",
    "    print('-----start-------')\n",
    "    # ネットワークをGPUへ\n",
    "    net.to(device)\n",
    "    torch.backends.cudnn.benchmark = True\n",
    "\n",
    "    # epochのループ\n",
    "    for epoch in range(num_epochs):\n",
    "        # epochごとの訓練と検証のループ\n",
    "        for phase in ['train', 'val']:\n",
    "            if phase == 'train':\n",
    "                net.train()  # モデルを訓練モードに\n",
    "            else:\n",
    "                net.eval()   # モデルを検証モードに\n",
    "\n",
    "            epoch_loss = 0.0  # epochの損失和\n",
    "            epoch_corrects = 0  # epochの正解数\n",
    "\n",
    "            # データローダーからミニバッチを取り出すループ\n",
    "            for batch in (dataloaders_dict[phase]):\n",
    "                # batchはTextとLableの辞書オブジェクト\n",
    "\n",
    "                # GPUが使えるならGPUにデータを送る\n",
    "                inputs = batch.Text[0].to(device)  # 文章\n",
    "                labels = batch.Label.to(device)  # ラベル\n",
    "\n",
    "                # optimizerを初期化\n",
    "                optimizer.zero_grad()\n",
    "\n",
    "                # 順伝搬（forward）計算\n",
    "                with torch.set_grad_enabled(phase == 'train'):\n",
    "\n",
    "                    # mask作成\n",
    "                    input_pad = 1  # 単語のIDにおいて、'<pad>': 1 なので\n",
    "                    input_mask = (inputs != input_pad)\n",
    "\n",
    "                    # Transformerに入力\n",
    "                    outputs, _, _ = net(inputs, input_mask)\n",
    "                    loss = criterion(outputs, labels)  # 損失を計算\n",
    "\n",
    "                    _, preds = torch.max(outputs, 1)  # ラベルを予測\n",
    "\n",
    "                    # 訓練時はバックプロパゲーション\n",
    "                    if phase == 'train':\n",
    "                        loss.backward()\n",
    "                        optimizer.step()\n",
    "\n",
    "                    # 結果の計算\n",
    "                    epoch_loss += loss.item() * inputs.size(0)  # lossの合計を更新\n",
    "                    # 正解数の合計を更新\n",
    "                    epoch_corrects += torch.sum(preds == labels.data)\n",
    "\n",
    "            # epochごとのlossと正解率\n",
    "            epoch_loss = epoch_loss / len(dataloaders_dict[phase].dataset)\n",
    "            epoch_acc = epoch_corrects.double(\n",
    "            ) / len(dataloaders_dict[phase].dataset)\n",
    "\n",
    "            print('Epoch {}/{} | {:^5} |  Loss: {:.4f} Acc: {:.4f}'.format(epoch+1, num_epochs,\n",
    "                                                                           phase, epoch_loss, epoch_acc))\n",
    "\n",
    "    return net\n",
    "\n",
    "    "
   ]
  },
  {
   "cell_type": "code",
   "execution_count": 33,
   "metadata": {},
   "outputs": [
    {
     "name": "stdout",
     "output_type": "stream",
     "text": [
      "使用デバイス： cuda:0\n",
      "-----start-------\n",
      "Epoch 1/10 | train |  Loss: 0.5937 Acc: 0.6713\n",
      "Epoch 1/10 |  val  |  Loss: 0.4384 Acc: 0.8030\n",
      "Epoch 2/10 | train |  Loss: 0.4339 Acc: 0.8051\n",
      "Epoch 2/10 |  val  |  Loss: 0.3961 Acc: 0.8214\n",
      "Epoch 3/10 | train |  Loss: 0.4006 Acc: 0.8234\n",
      "Epoch 3/10 |  val  |  Loss: 0.3882 Acc: 0.8324\n",
      "Epoch 4/10 | train |  Loss: 0.3809 Acc: 0.8316\n",
      "Epoch 4/10 |  val  |  Loss: 0.3934 Acc: 0.8284\n",
      "Epoch 5/10 | train |  Loss: 0.3661 Acc: 0.8421\n",
      "Epoch 5/10 |  val  |  Loss: 0.3679 Acc: 0.8428\n",
      "Epoch 6/10 | train |  Loss: 0.3541 Acc: 0.8473\n",
      "Epoch 6/10 |  val  |  Loss: 0.3799 Acc: 0.8330\n",
      "Epoch 7/10 | train |  Loss: 0.3488 Acc: 0.8498\n",
      "Epoch 7/10 |  val  |  Loss: 0.3580 Acc: 0.8490\n",
      "Epoch 8/10 | train |  Loss: 0.3393 Acc: 0.8518\n",
      "Epoch 8/10 |  val  |  Loss: 0.3827 Acc: 0.8330\n",
      "Epoch 9/10 | train |  Loss: 0.3299 Acc: 0.8601\n",
      "Epoch 9/10 |  val  |  Loss: 0.3818 Acc: 0.8366\n",
      "Epoch 10/10 | train |  Loss: 0.3222 Acc: 0.8618\n",
      "Epoch 10/10 |  val  |  Loss: 0.3578 Acc: 0.8486\n"
     ]
    }
   ],
   "source": [
    "# 学習・検証を実行する 15分ほどかかります\n",
    "num_epochs = 10\n",
    "net_trained = train_model(net, dataloaders_dict,\n",
    "                          criterion, optimizer, num_epochs=num_epochs)\n"
   ]
  },
  {
   "cell_type": "code",
   "execution_count": 34,
   "metadata": {},
   "outputs": [
    {
     "name": "stdout",
     "output_type": "stream",
     "text": [
      "テストデータ25000個での正解率：0.8517\n"
     ]
    }
   ],
   "source": [
    "# device\n",
    "device = torch.device(\"cuda:0\" if torch.cuda.is_available() else \"cpu\")\n",
    "\n",
    "net_trained.eval()   # モデルを検証モードに\n",
    "net_trained.to(device)\n",
    "\n",
    "epoch_corrects = 0  # epochの正解数\n",
    "\n",
    "for batch in (test_dl):  # testデータのDataLoader\n",
    "    # batchはTextとLableの辞書オブジェクト\n",
    "    \n",
    "    # GPUが使えるならGPUにデータを送る\n",
    "    inputs = batch.Text[0].to(device)  # 文章\n",
    "    labels = batch.Label.to(device)  # ラベル\n",
    "\n",
    "    # 順伝搬（forward）計算\n",
    "    with torch.set_grad_enabled(False):\n",
    "\n",
    "        # mask作成\n",
    "        input_pad = 1  # 単語のIDにおいて、'<pad>': 1 なので\n",
    "        input_mask = (inputs != input_pad)\n",
    "\n",
    "        # Transformerに入力\n",
    "        outputs, _, _ = net_trained(inputs, input_mask)\n",
    "        _, preds = torch.max(outputs, 1)  # ラベルを予測\n",
    "\n",
    "        # 結果の計算\n",
    "        # 正解数の合計を更新\n",
    "        epoch_corrects += torch.sum(preds == labels.data)\n",
    "\n",
    "# 正解率\n",
    "epoch_acc = epoch_corrects.double() / len(test_dl.dataset)\n",
    "\n",
    "print('テストデータ{}個での正解率：{:.4f}'.format(len(test_dl.dataset),epoch_acc))\n"
   ]
  },
  {
   "cell_type": "code",
   "execution_count": 35,
   "metadata": {},
   "outputs": [],
   "source": [
    "def highlight(word, attn):\n",
    "    \"Attentionの値が大きいと文字の背景が濃い赤になるhtmlを出力させる関数\"\n",
    "\n",
    "    html_color = '#%02X%02X%02X' % (\n",
    "        255, int(255*(1 - attn)), int(255*(1 - attn)))\n",
    "    return '<span style=\"background-color: {};color:black\"> {}</span>'.format(html_color, word)\n",
    "\n",
    "\n",
    "def mk_html(index, batch, preds, normlized_weights_1, normlized_weights_2, TEXT):\n",
    "    \"HTMLデータを作成する\"\n",
    "\n",
    "    # indexの結果を抽出\n",
    "    sentence = batch.Text[0][index]  # 文章\n",
    "    label = batch.Label[index]  # ラベル\n",
    "    pred = preds[index]  # 予測\n",
    "\n",
    "    # indexのAttentionを抽出と規格化\n",
    "    attens1 = normlized_weights_1[index, 0, :]  # 0番目の<cls>のAttention\n",
    "    attens1 /= attens1.max()\n",
    "\n",
    "    attens2 = normlized_weights_2[index, 0, :]  # 0番目の<cls>のAttention\n",
    "    attens2 /= attens2.max()\n",
    "\n",
    "    # ラベルと予測結果を文字に置き換え\n",
    "    if label == 0:\n",
    "        label_str = \"Negative\"\n",
    "    else:\n",
    "        label_str = \"Positive\"\n",
    "\n",
    "    if pred == 0:\n",
    "        pred_str = \"Negative\"\n",
    "    else:\n",
    "        pred_str = \"Positive\"\n",
    "\n",
    "    # 表示用のHTMLを作成する\n",
    "    html = '正解ラベル：{}<br>推論ラベル：{}<br><br>'.format(label_str, pred_str)\n",
    "\n",
    "    # 1段目のAttention\n",
    "    html += '[TransformerBlockの1段目のAttentionを可視化]<br>'\n",
    "    for word, attn in zip(sentence, attens1):\n",
    "        html += highlight(TEXT.vocab.itos[word], attn)\n",
    "    html += \"<br><br>\"\n",
    "\n",
    "    # 2段目のAttention\n",
    "    html += '[TransformerBlockの2段目のAttentionを可視化]<br>'\n",
    "    for word, attn in zip(sentence, attens2):\n",
    "        html += highlight(TEXT.vocab.itos[word], attn)\n",
    "\n",
    "    html += \"<br><br>\"\n",
    "\n",
    "    return html"
   ]
  },
  {
   "cell_type": "code",
   "execution_count": 36,
   "metadata": {},
   "outputs": [
    {
     "data": {
      "text/html": [
       "正解ラベル：Positive<br>推論ラベル：Positive<br><br>[TransformerBlockの1段目のAttentionを可視化]<br><span style=\"background-color: #FFFCFC;color:black\"> <cls></span><span style=\"background-color: #FFFEFE;color:black\"> in</span><span style=\"background-color: #FFFEFE;color:black\"> an</span><span style=\"background-color: #FFF7F7;color:black\"> era</span><span style=\"background-color: #FFFEFE;color:black\"> where</span><span style=\"background-color: #FFFEFE;color:black\"> nearly</span><span style=\"background-color: #FFFEFE;color:black\"> every</span><span style=\"background-color: #FFDEDE;color:black\"> great</span><span style=\"background-color: #FFF6F6;color:black\"> horror</span><span style=\"background-color: #FFFAFA;color:black\"> film</span><span style=\"background-color: #FFFEFE;color:black\"> of</span><span style=\"background-color: #FFFEFE;color:black\"> the</span><span style=\"background-color: #FFFCFC;color:black\"> 60s</span><span style=\"background-color: #FFFEFE;color:black\"> and</span><span style=\"background-color: #FFFBFB;color:black\"> 70s</span><span style=\"background-color: #FFFDFD;color:black\"> is</span><span style=\"background-color: #FFFDFD;color:black\"> being</span><span style=\"background-color: #FFE4E4;color:black\"> remade</span><span style=\"background-color: #FFFEFE;color:black\"> for</span><span style=\"background-color: #FFFDFD;color:black\"> audiences</span><span style=\"background-color: #FFFEFE;color:black\"> <unk></span><span style=\"background-color: #FFFEFE;color:black\"> on</span><span style=\"background-color: #FFF7F7;color:black\"> horror</span><span style=\"background-color: #FFFBFB;color:black\"> flicks</span><span style=\"background-color: #FFFDFD;color:black\"> of</span><span style=\"background-color: #FFFCFC;color:black\"> today</span><span style=\"background-color: #FFFEFE;color:black\"> that</span><span style=\"background-color: #FFFDFD;color:black\"> are</span><span style=\"background-color: #FFF5F5;color:black\"> not</span><span style=\"background-color: #FFFEFE;color:black\"> too</span><span style=\"background-color: #FFFEFE;color:black\"> terribly</span><span style=\"background-color: #FFD6D6;color:black\"> good</span><span style=\"background-color: #FFFEFE;color:black\"> ,</span><span style=\"background-color: #FFFEFE;color:black\"> it</span><span style=\"background-color: #FFFDFD;color:black\"> is</span><span style=\"background-color: #FFFDFD;color:black\"> <unk></span><span style=\"background-color: #FFFEFE;color:black\"> to</span><span style=\"background-color: #FFFAFA;color:black\"> look</span><span style=\"background-color: #FFFBFB;color:black\"> back</span><span style=\"background-color: #FFFEFE;color:black\"> at</span><span style=\"background-color: #FFFEFE;color:black\"> john</span><span style=\"background-color: #FFFDFD;color:black\"> carpenter</span><span style=\"background-color: #FFFDFD;color:black\"> s</span><span style=\"background-color: #FFF4F4;color:black\"> 1982</span><span style=\"background-color: #FFDCDC;color:black\"> opus</span><span style=\"background-color: #FFFEFE;color:black\"> the</span><span style=\"background-color: #FFF2F2;color:black\"> thing</span><span style=\"background-color: #FFFEFE;color:black\"> ,</span><span style=\"background-color: #FFFEFE;color:black\"> which</span><span style=\"background-color: #FFFBFB;color:black\"> itself</span><span style=\"background-color: #FFFDFD;color:black\"> is</span><span style=\"background-color: #FFFCFC;color:black\"> a</span><span style=\"background-color: #FFC8C8;color:black\"> remake</span><span style=\"background-color: #FFFEFE;color:black\"> of</span><span style=\"background-color: #FFFDFD;color:black\"> a</span><span style=\"background-color: #FFFDFD;color:black\"> childhood</span><span style=\"background-color: #FF9898;color:black\"> favorite</span><span style=\"background-color: #FFFEFE;color:black\"> of</span><span style=\"background-color: #FFFEFE;color:black\"> the</span><span style=\"background-color: #FFF2F2;color:black\"> director</span><span style=\"background-color: #FFFDFD;color:black\"> s</span><span style=\"background-color: #FFFEFE;color:black\"> ,</span><span style=\"background-color: #FFFCFC;color:black\"> howard</span><span style=\"background-color: #FFFDFD;color:black\"> hawks</span><span style=\"background-color: #FFF9F9;color:black\"> 1951</span><span style=\"background-color: #FFF5F5;color:black\"> sci</span><span style=\"background-color: #FFF6F6;color:black\"> fi</span><span style=\"background-color: #FFF5F5;color:black\"> horror</span><span style=\"background-color: #FFC5C5;color:black\"> classic</span><span style=\"background-color: #FFFEFE;color:black\"> the</span><span style=\"background-color: #FFF3F3;color:black\"> thing</span><span style=\"background-color: #FFFEFE;color:black\"> from</span><span style=\"background-color: #FFFEFE;color:black\"> outer</span><span style=\"background-color: #FFF8F8;color:black\"> space</span><span style=\"background-color: #FFFEFE;color:black\"> .</span><span style=\"background-color: #FFFDFD;color:black\"> although</span><span style=\"background-color: #FFFCFC;color:black\"> carpenter</span><span style=\"background-color: #FFFDFD;color:black\"> s</span><span style=\"background-color: #FFFAFA;color:black\"> film</span><span style=\"background-color: #FFFAFA;color:black\"> was</span><span style=\"background-color: #FFF7F7;color:black\"> not</span><span style=\"background-color: #FFFDFD;color:black\"> initially</span><span style=\"background-color: #FFFEFE;color:black\"> that</span><span style=\"background-color: #FFFCFC;color:black\"> big</span><span style=\"background-color: #FFFCFC;color:black\"> a</span><span style=\"background-color: #FFEFEF;color:black\"> box</span><span style=\"background-color: #FFF9F9;color:black\"> office</span><span style=\"background-color: #FFFBFB;color:black\"> hit</span><span style=\"background-color: #FFFEFE;color:black\"> when</span><span style=\"background-color: #FFECEC;color:black\"> released</span><span style=\"background-color: #FFFEFE;color:black\"> in</span><span style=\"background-color: #FFFEFE;color:black\"> mid</span><span style=\"background-color: #FFF3F3;color:black\"> 1982</span><span style=\"background-color: #FFFEFE;color:black\"> ,</span><span style=\"background-color: #FFFEFE;color:black\"> it</span><span style=\"background-color: #FFFBFB;color:black\"> has</span><span style=\"background-color: #FFFCFC;color:black\"> since</span><span style=\"background-color: #FFF4F4;color:black\"> garnered</span><span style=\"background-color: #FFFCFC;color:black\"> a</span><span style=\"background-color: #FFFEFE;color:black\"> very</span><span style=\"background-color: #FFFDFD;color:black\"> large</span><span style=\"background-color: #FFFEFE;color:black\"> following</span><span style=\"background-color: #FFFEFE;color:black\"> .</span><span style=\"background-color: #FFFEFE;color:black\"> in</span><span style=\"background-color: #FFECEC;color:black\"> fact</span><span style=\"background-color: #FFFEFE;color:black\"> ,</span><span style=\"background-color: #FFFDFD;color:black\"> carpenter</span><span style=\"background-color: #FFFDFD;color:black\"> s</span><span style=\"background-color: #FFF8F8;color:black\"> film</span><span style=\"background-color: #FFFDFD;color:black\"> is</span><span style=\"background-color: #FFFEFE;color:black\"> less</span><span style=\"background-color: #FFFDFD;color:black\"> of</span><span style=\"background-color: #FFFCFC;color:black\"> a</span><span style=\"background-color: #FFCDCD;color:black\"> remake</span><span style=\"background-color: #FFFDFD;color:black\"> of</span><span style=\"background-color: #FFFDFD;color:black\"> hawks</span><span style=\"background-color: #FFFAFA;color:black\"> film</span><span style=\"background-color: #FFFDFD;color:black\"> than</span><span style=\"background-color: #FFFEFE;color:black\"> it</span><span style=\"background-color: #FFFDFD;color:black\"> is</span><span style=\"background-color: #FFFDFD;color:black\"> a</span><span style=\"background-color: #FFF7F7;color:black\"> reworking</span><span style=\"background-color: #FFFEFE;color:black\"> ,</span><span style=\"background-color: #FFFEFE;color:black\"> as</span><span style=\"background-color: #FFFEFE;color:black\"> he</span><span style=\"background-color: #FFFEFE;color:black\"> goes</span><span style=\"background-color: #FFFCFC;color:black\"> back</span><span style=\"background-color: #FFFEFE;color:black\"> to</span><span style=\"background-color: #FFFEFE;color:black\"> the</span><span style=\"background-color: #FFCACA;color:black\"> original</span><span style=\"background-color: #FFB5B5;color:black\"> idea</span><span style=\"background-color: #FFFEFE;color:black\"> <unk></span><span style=\"background-color: #FFFEFE;color:black\"> by</span><span style=\"background-color: #FFFEFE;color:black\"> the</span><span style=\"background-color: #FFC3C3;color:black\"> source</span><span style=\"background-color: #FFFBFB;color:black\"> material</span><span style=\"background-color: #FFFEFE;color:black\"> ,</span><span style=\"background-color: #FFFEFE;color:black\"> namely</span><span style=\"background-color: #FFFEFE;color:black\"> the</span><span style=\"background-color: #FFFEFE;color:black\"> john</span><span style=\"background-color: #FFFCFC;color:black\"> w</span><span style=\"background-color: #FFFEFE;color:black\"> .</span><span style=\"background-color: #FFFBFB;color:black\"> campbell</span><span style=\"background-color: #FFFAFA;color:black\"> story</span><span style=\"background-color: #FFFEFE;color:black\"> who</span><span style=\"background-color: #FFFDFD;color:black\"> goes</span><span style=\"background-color: #FFFEFE;color:black\"> there</span><span style=\"background-color: #FFFEFE;color:black\"> ,</span><span style=\"background-color: #FFFEFE;color:black\"> in</span><span style=\"background-color: #FFFEFE;color:black\"> which</span><span style=\"background-color: #FFFDFD;color:black\"> a</span><span style=\"background-color: #FFFCFC;color:black\"> us</span><span style=\"background-color: #FFC4C4;color:black\"> scientific</span><span style=\"background-color: #FFF1F1;color:black\"> crew</span><span style=\"background-color: #FFFEFE;color:black\"> in</span><span style=\"background-color: #FFFCFC;color:black\"> <unk></span><span style=\"background-color: #FFFDFD;color:black\"> is</span><span style=\"background-color: #FFFDFD;color:black\"> <unk></span><span style=\"background-color: #FFFDFD;color:black\"> by</span><span style=\"background-color: #FFFDFD;color:black\"> a</span><span style=\"background-color: #FFFDFD;color:black\"> shape</span><span style=\"background-color: #FFFEFE;color:black\"> changing</span><span style=\"background-color: #FFEDED;color:black\"> alien</span><span style=\"background-color: #FFFDFD;color:black\"> <unk></span><span style=\"background-color: #FFFDFD;color:black\"> out</span><span style=\"background-color: #FFFEFE;color:black\"> from</span><span style=\"background-color: #FFFEFE;color:black\"> the</span><span style=\"background-color: #FFE4E4;color:black\"> ice</span><span style=\"background-color: #FFFEFE;color:black\"> after</span><span style=\"background-color: #FFFCFC;color:black\"> 100</span><span style=\"background-color: #FFFEFE;color:black\"> ,</span><span style=\"background-color: #FFFBFB;color:black\"> 000</span><span style=\"background-color: #FFFEFE;color:black\"> years</span><span style=\"background-color: #FFFEFE;color:black\"> .</span><span style=\"background-color: #FFFDFD;color:black\"> kurt</span><span style=\"background-color: #FFE1E1;color:black\"> russell</span><span style=\"background-color: #FFFEFE;color:black\"> ,</span><span style=\"background-color: #FFFEFE;color:black\"> who</span><span style=\"background-color: #FFEEEE;color:black\"> had</span><span style=\"background-color: #FFD6D6;color:black\"> starred</span><span style=\"background-color: #FFFEFE;color:black\"> for</span><span style=\"background-color: #FFFDFD;color:black\"> carpenter</span><span style=\"background-color: #FFFEFE;color:black\"> in</span><span style=\"background-color: #FFFEFE;color:black\"> the</span><span style=\"background-color: #FFF2F2;color:black\"> director</span><span style=\"background-color: #FFFDFD;color:black\"> s</span><span style=\"background-color: #FFF0F0;color:black\"> 1979</span><span style=\"background-color: #FFF4F4;color:black\"> tv</span><span style=\"background-color: #FFF0F0;color:black\"> movie</span><span style=\"background-color: #FFEEEE;color:black\"> elvis</span><span style=\"background-color: #FFFEFE;color:black\"> and</span><span style=\"background-color: #FFFEFE;color:black\"> the</span><span style=\"background-color: #FFF4F4;color:black\"> 1981</span><span style=\"background-color: #FFFAFA;color:black\"> film</span><span style=\"background-color: #FFDFDF;color:black\"> escape</span><span style=\"background-color: #FFFEFE;color:black\"> from</span><span style=\"background-color: #FFF5F5;color:black\"> new</span><span style=\"background-color: #FFF8F8;color:black\"> york</span><span style=\"background-color: #FFFEFE;color:black\"> ,</span><span style=\"background-color: #FFFCFC;color:black\"> heads</span><span style=\"background-color: #FFFDFD;color:black\"> a</span><span style=\"background-color: #FFECEC;color:black\"> cast</span><span style=\"background-color: #FFFDFD;color:black\"> of</span><span style=\"background-color: #FFF0F0;color:black\"> stalwart</span><span style=\"background-color: #FFF5F5;color:black\"> character</span><span style=\"background-color: #FFFAFA;color:black\"> actors</span><span style=\"background-color: #FFFEFE;color:black\"> ,</span><span style=\"background-color: #FFFEFE;color:black\"> including</span><span style=\"background-color: #FFFEFE;color:black\"> keith</span><span style=\"background-color: #FFFCFC;color:black\"> david</span><span style=\"background-color: #FFFEFE;color:black\"> ,</span><span style=\"background-color: #FFF0F0;color:black\"> donald</span><span style=\"background-color: #FFFCFC;color:black\"> <unk></span><span style=\"background-color: #FFFEFE;color:black\"> ,</span><span style=\"background-color: #FFFEFE;color:black\"> richard</span><span style=\"background-color: #FFFEFE;color:black\"> <unk></span><span style=\"background-color: #FFFEFE;color:black\"> ,</span><span style=\"background-color: #FFFEFE;color:black\"> and</span><span style=\"background-color: #FFFEFE;color:black\"> richard</span><span style=\"background-color: #FFFDFD;color:black\"> <unk></span><span style=\"background-color: #FFFEFE;color:black\"> ,</span><span style=\"background-color: #FFFEFE;color:black\"> in</span><span style=\"background-color: #FFFAFA;color:black\"> this</span><span style=\"background-color: #FFC6C6;color:black\"> tension</span><span style=\"background-color: #FFFAFA;color:black\"> filled</span><span style=\"background-color: #FFF9F9;color:black\"> exploration</span><span style=\"background-color: #FFFDFD;color:black\"> of</span><span style=\"background-color: #FF0000;color:black\"> paranoia</span><span style=\"background-color: #FFFEFE;color:black\"> ,</span><span style=\"background-color: #FFFEFE;color:black\"> as</span><span style=\"background-color: #FFFDFD;color:black\"> the</span><span style=\"background-color: #FFFDFD;color:black\"> shape</span><span style=\"background-color: #FFFEFE;color:black\"> changing</span><span style=\"background-color: #FFEAEA;color:black\"> thing</span><span style=\"background-color: #FFFEFE;color:black\"> ,</span><span style=\"background-color: #FFFEFE;color:black\"> which</span><span style=\"background-color: #FFFCFC;color:black\"> first</span><span style=\"background-color: #FFF8F8;color:black\"> comes</span><span style=\"background-color: #FFFEFE;color:black\"> to</span><span style=\"background-color: #FFF9F9;color:black\"> their</span><span style=\"background-color: #FFFEFE;color:black\"> camp</span><span style=\"background-color: #FFFEFE;color:black\"> in</span><span style=\"background-color: #FFFEFE;color:black\"> the</span><span style=\"background-color: #FFFDFD;color:black\"> form</span><span style=\"background-color: #FFFEFE;color:black\"> of</span><span style=\"background-color: #FFFDFD;color:black\"> a</span><span style=\"background-color: #FFECEC;color:black\"> guide</span><span style=\"background-color: #FFFCFC;color:black\"> dog</span><span style=\"background-color: #FFFCFC;color:black\"> a</span><span style=\"background-color: #FFFDFD;color:black\"> norwegian</span><span style=\"background-color: #FFDADA;color:black\"> team</span><span style=\"background-color: #FFFCFC;color:black\"> is</span><span style=\"background-color: #FFEEEE;color:black\"> trying</span><span style=\"background-color: #FFFEFE;color:black\"> to</span><span style=\"background-color: #FFFBFB;color:black\"> kill</span><span style=\"background-color: #FFFCFC;color:black\"> <eos></span><br><br>[TransformerBlockの2段目のAttentionを可視化]<br><span style=\"background-color: #FFFEFE;color:black\"> <cls></span><span style=\"background-color: #FFFEFE;color:black\"> in</span><span style=\"background-color: #FFFDFD;color:black\"> an</span><span style=\"background-color: #FFFEFE;color:black\"> era</span><span style=\"background-color: #FFF7F7;color:black\"> where</span><span style=\"background-color: #FFECEC;color:black\"> nearly</span><span style=\"background-color: #FFF7F7;color:black\"> every</span><span style=\"background-color: #FFD7D7;color:black\"> great</span><span style=\"background-color: #FFECEC;color:black\"> horror</span><span style=\"background-color: #FFFEFE;color:black\"> film</span><span style=\"background-color: #FFFEFE;color:black\"> of</span><span style=\"background-color: #FFFEFE;color:black\"> the</span><span style=\"background-color: #FFFDFD;color:black\"> 60s</span><span style=\"background-color: #FFFEFE;color:black\"> and</span><span style=\"background-color: #FFFCFC;color:black\"> 70s</span><span style=\"background-color: #FFEEEE;color:black\"> is</span><span style=\"background-color: #FFFCFC;color:black\"> being</span><span style=\"background-color: #FFEDED;color:black\"> remade</span><span style=\"background-color: #FFFEFE;color:black\"> for</span><span style=\"background-color: #FFF4F4;color:black\"> audiences</span><span style=\"background-color: #FFFEFE;color:black\"> <unk></span><span style=\"background-color: #FFFEFE;color:black\"> on</span><span style=\"background-color: #FFE9E9;color:black\"> horror</span><span style=\"background-color: #FFECEC;color:black\"> flicks</span><span style=\"background-color: #FFFDFD;color:black\"> of</span><span style=\"background-color: #FFFCFC;color:black\"> today</span><span style=\"background-color: #FFFCFC;color:black\"> that</span><span style=\"background-color: #FFF2F2;color:black\"> are</span><span style=\"background-color: #FFFBFB;color:black\"> not</span><span style=\"background-color: #FFF5F5;color:black\"> too</span><span style=\"background-color: #FF0000;color:black\"> terribly</span><span style=\"background-color: #FFC7C7;color:black\"> good</span><span style=\"background-color: #FFFDFD;color:black\"> ,</span><span style=\"background-color: #FFFAFA;color:black\"> it</span><span style=\"background-color: #FFE1E1;color:black\"> is</span><span style=\"background-color: #FFFDFD;color:black\"> <unk></span><span style=\"background-color: #FFFEFE;color:black\"> to</span><span style=\"background-color: #FFFDFD;color:black\"> look</span><span style=\"background-color: #FFFCFC;color:black\"> back</span><span style=\"background-color: #FFFEFE;color:black\"> at</span><span style=\"background-color: #FFFEFE;color:black\"> john</span><span style=\"background-color: #FFFDFD;color:black\"> carpenter</span><span style=\"background-color: #FFF6F6;color:black\"> s</span><span style=\"background-color: #FFFEFE;color:black\"> 1982</span><span style=\"background-color: #FFFCFC;color:black\"> opus</span><span style=\"background-color: #FFFEFE;color:black\"> the</span><span style=\"background-color: #FFF8F8;color:black\"> thing</span><span style=\"background-color: #FFFDFD;color:black\"> ,</span><span style=\"background-color: #FFFEFE;color:black\"> which</span><span style=\"background-color: #FFF0F0;color:black\"> itself</span><span style=\"background-color: #FFE3E3;color:black\"> is</span><span style=\"background-color: #FFFEFE;color:black\"> a</span><span style=\"background-color: #FFE0E0;color:black\"> remake</span><span style=\"background-color: #FFFEFE;color:black\"> of</span><span style=\"background-color: #FFFEFE;color:black\"> a</span><span style=\"background-color: #FFF6F6;color:black\"> childhood</span><span style=\"background-color: #FFFCFC;color:black\"> favorite</span><span style=\"background-color: #FFFEFE;color:black\"> of</span><span style=\"background-color: #FFFEFE;color:black\"> the</span><span style=\"background-color: #FFF9F9;color:black\"> director</span><span style=\"background-color: #FFF4F4;color:black\"> s</span><span style=\"background-color: #FFFDFD;color:black\"> ,</span><span style=\"background-color: #FFFBFB;color:black\"> howard</span><span style=\"background-color: #FFFDFD;color:black\"> hawks</span><span style=\"background-color: #FFFEFE;color:black\"> 1951</span><span style=\"background-color: #FFF0F0;color:black\"> sci</span><span style=\"background-color: #FFFDFD;color:black\"> fi</span><span style=\"background-color: #FFEAEA;color:black\"> horror</span><span style=\"background-color: #FFE6E6;color:black\"> classic</span><span style=\"background-color: #FFFEFE;color:black\"> the</span><span style=\"background-color: #FFF8F8;color:black\"> thing</span><span style=\"background-color: #FFFEFE;color:black\"> from</span><span style=\"background-color: #FFFDFD;color:black\"> outer</span><span style=\"background-color: #FFFBFB;color:black\"> space</span><span style=\"background-color: #FFFBFB;color:black\"> .</span><span style=\"background-color: #FFF5F5;color:black\"> although</span><span style=\"background-color: #FFFDFD;color:black\"> carpenter</span><span style=\"background-color: #FFF6F6;color:black\"> s</span><span style=\"background-color: #FFFDFD;color:black\"> film</span><span style=\"background-color: #FFFEFE;color:black\"> was</span><span style=\"background-color: #FFFAFA;color:black\"> not</span><span style=\"background-color: #FFFDFD;color:black\"> initially</span><span style=\"background-color: #FFFBFB;color:black\"> that</span><span style=\"background-color: #FFF8F8;color:black\"> big</span><span style=\"background-color: #FFFEFE;color:black\"> a</span><span style=\"background-color: #FFFEFE;color:black\"> box</span><span style=\"background-color: #FFFCFC;color:black\"> office</span><span style=\"background-color: #FFFEFE;color:black\"> hit</span><span style=\"background-color: #FFFEFE;color:black\"> when</span><span style=\"background-color: #FFFEFE;color:black\"> released</span><span style=\"background-color: #FFFEFE;color:black\"> in</span><span style=\"background-color: #FFFBFB;color:black\"> mid</span><span style=\"background-color: #FFFEFE;color:black\"> 1982</span><span style=\"background-color: #FFFDFD;color:black\"> ,</span><span style=\"background-color: #FFFCFC;color:black\"> it</span><span style=\"background-color: #FFFCFC;color:black\"> has</span><span style=\"background-color: #FFFEFE;color:black\"> since</span><span style=\"background-color: #FFFEFE;color:black\"> garnered</span><span style=\"background-color: #FFFEFE;color:black\"> a</span><span style=\"background-color: #FFEDED;color:black\"> very</span><span style=\"background-color: #FFFBFB;color:black\"> large</span><span style=\"background-color: #FFFEFE;color:black\"> following</span><span style=\"background-color: #FFFDFD;color:black\"> .</span><span style=\"background-color: #FFFEFE;color:black\"> in</span><span style=\"background-color: #FFFCFC;color:black\"> fact</span><span style=\"background-color: #FFFDFD;color:black\"> ,</span><span style=\"background-color: #FFFDFD;color:black\"> carpenter</span><span style=\"background-color: #FFF6F6;color:black\"> s</span><span style=\"background-color: #FFFEFE;color:black\"> film</span><span style=\"background-color: #FFE9E9;color:black\"> is</span><span style=\"background-color: #FFDDDD;color:black\"> less</span><span style=\"background-color: #FFFEFE;color:black\"> of</span><span style=\"background-color: #FFFEFE;color:black\"> a</span><span style=\"background-color: #FFE7E7;color:black\"> remake</span><span style=\"background-color: #FFFEFE;color:black\"> of</span><span style=\"background-color: #FFFEFE;color:black\"> hawks</span><span style=\"background-color: #FFFDFD;color:black\"> film</span><span style=\"background-color: #FFFCFC;color:black\"> than</span><span style=\"background-color: #FFFAFA;color:black\"> it</span><span style=\"background-color: #FFE1E1;color:black\"> is</span><span style=\"background-color: #FFFDFD;color:black\"> a</span><span style=\"background-color: #FFFDFD;color:black\"> reworking</span><span style=\"background-color: #FFFDFD;color:black\"> ,</span><span style=\"background-color: #FFFBFB;color:black\"> as</span><span style=\"background-color: #FFEDED;color:black\"> he</span><span style=\"background-color: #FFF0F0;color:black\"> goes</span><span style=\"background-color: #FFFCFC;color:black\"> back</span><span style=\"background-color: #FFFEFE;color:black\"> to</span><span style=\"background-color: #FFFEFE;color:black\"> the</span><span style=\"background-color: #FFFBFB;color:black\"> original</span><span style=\"background-color: #FFFBFB;color:black\"> idea</span><span style=\"background-color: #FFFDFD;color:black\"> <unk></span><span style=\"background-color: #FFFEFE;color:black\"> by</span><span style=\"background-color: #FFFEFE;color:black\"> the</span><span style=\"background-color: #FFFCFC;color:black\"> source</span><span style=\"background-color: #FFF8F8;color:black\"> material</span><span style=\"background-color: #FFFEFE;color:black\"> ,</span><span style=\"background-color: #FFFDFD;color:black\"> namely</span><span style=\"background-color: #FFFEFE;color:black\"> the</span><span style=\"background-color: #FFFEFE;color:black\"> john</span><span style=\"background-color: #FFF5F5;color:black\"> w</span><span style=\"background-color: #FFFCFC;color:black\"> .</span><span style=\"background-color: #FFFEFE;color:black\"> campbell</span><span style=\"background-color: #FFFDFD;color:black\"> story</span><span style=\"background-color: #FFFEFE;color:black\"> who</span><span style=\"background-color: #FFF3F3;color:black\"> goes</span><span style=\"background-color: #FFFDFD;color:black\"> there</span><span style=\"background-color: #FFFDFD;color:black\"> ,</span><span style=\"background-color: #FFFEFE;color:black\"> in</span><span style=\"background-color: #FFFDFD;color:black\"> which</span><span style=\"background-color: #FFFEFE;color:black\"> a</span><span style=\"background-color: #FFF5F5;color:black\"> us</span><span style=\"background-color: #FFFDFD;color:black\"> scientific</span><span style=\"background-color: #FFF9F9;color:black\"> crew</span><span style=\"background-color: #FFFEFE;color:black\"> in</span><span style=\"background-color: #FFFEFE;color:black\"> <unk></span><span style=\"background-color: #FFE2E2;color:black\"> is</span><span style=\"background-color: #FFFDFD;color:black\"> <unk></span><span style=\"background-color: #FFFEFE;color:black\"> by</span><span style=\"background-color: #FFFEFE;color:black\"> a</span><span style=\"background-color: #FFDADA;color:black\"> shape</span><span style=\"background-color: #FFFAFA;color:black\"> changing</span><span style=\"background-color: #FFFAFA;color:black\"> alien</span><span style=\"background-color: #FFFEFE;color:black\"> <unk></span><span style=\"background-color: #FFFCFC;color:black\"> out</span><span style=\"background-color: #FFFEFE;color:black\"> from</span><span style=\"background-color: #FFFEFE;color:black\"> the</span><span style=\"background-color: #FFFCFC;color:black\"> ice</span><span style=\"background-color: #FFFEFE;color:black\"> after</span><span style=\"background-color: #FFFBFB;color:black\"> 100</span><span style=\"background-color: #FFFDFD;color:black\"> ,</span><span style=\"background-color: #FFFCFC;color:black\"> 000</span><span style=\"background-color: #FFFEFE;color:black\"> years</span><span style=\"background-color: #FFFCFC;color:black\"> .</span><span style=\"background-color: #FFFEFE;color:black\"> kurt</span><span style=\"background-color: #FFFEFE;color:black\"> russell</span><span style=\"background-color: #FFFDFD;color:black\"> ,</span><span style=\"background-color: #FFFEFE;color:black\"> who</span><span style=\"background-color: #FFFEFE;color:black\"> had</span><span style=\"background-color: #FFFEFE;color:black\"> starred</span><span style=\"background-color: #FFFEFE;color:black\"> for</span><span style=\"background-color: #FFFCFC;color:black\"> carpenter</span><span style=\"background-color: #FFFDFD;color:black\"> in</span><span style=\"background-color: #FFFEFE;color:black\"> the</span><span style=\"background-color: #FFF7F7;color:black\"> director</span><span style=\"background-color: #FFF3F3;color:black\"> s</span><span style=\"background-color: #FFFEFE;color:black\"> 1979</span><span style=\"background-color: #FFFEFE;color:black\"> tv</span><span style=\"background-color: #FFFEFE;color:black\"> movie</span><span style=\"background-color: #FFFEFE;color:black\"> elvis</span><span style=\"background-color: #FFFEFE;color:black\"> and</span><span style=\"background-color: #FFFEFE;color:black\"> the</span><span style=\"background-color: #FFFEFE;color:black\"> 1981</span><span style=\"background-color: #FFFDFD;color:black\"> film</span><span style=\"background-color: #FFFBFB;color:black\"> escape</span><span style=\"background-color: #FFFEFE;color:black\"> from</span><span style=\"background-color: #FFFDFD;color:black\"> new</span><span style=\"background-color: #FFFEFE;color:black\"> york</span><span style=\"background-color: #FFFDFD;color:black\"> ,</span><span style=\"background-color: #FFD3D3;color:black\"> heads</span><span style=\"background-color: #FFFEFE;color:black\"> a</span><span style=\"background-color: #FFFCFC;color:black\"> cast</span><span style=\"background-color: #FFFDFD;color:black\"> of</span><span style=\"background-color: #FFEEEE;color:black\"> stalwart</span><span style=\"background-color: #FFFCFC;color:black\"> character</span><span style=\"background-color: #FFFBFB;color:black\"> actors</span><span style=\"background-color: #FFFDFD;color:black\"> ,</span><span style=\"background-color: #FFFEFE;color:black\"> including</span><span style=\"background-color: #FFFDFD;color:black\"> keith</span><span style=\"background-color: #FFFEFE;color:black\"> david</span><span style=\"background-color: #FFFDFD;color:black\"> ,</span><span style=\"background-color: #FFFEFE;color:black\"> donald</span><span style=\"background-color: #FFFEFE;color:black\"> <unk></span><span style=\"background-color: #FFFDFD;color:black\"> ,</span><span style=\"background-color: #FFFCFC;color:black\"> richard</span><span style=\"background-color: #FFFEFE;color:black\"> <unk></span><span style=\"background-color: #FFFDFD;color:black\"> ,</span><span style=\"background-color: #FFFEFE;color:black\"> and</span><span style=\"background-color: #FFFBFB;color:black\"> richard</span><span style=\"background-color: #FFFDFD;color:black\"> <unk></span><span style=\"background-color: #FFFDFD;color:black\"> ,</span><span style=\"background-color: #FFFEFE;color:black\"> in</span><span style=\"background-color: #FFF7F7;color:black\"> this</span><span style=\"background-color: #FFE7E7;color:black\"> tension</span><span style=\"background-color: #FFF5F5;color:black\"> filled</span><span style=\"background-color: #FFFBFB;color:black\"> exploration</span><span style=\"background-color: #FFFCFC;color:black\"> of</span><span style=\"background-color: #FFF0F0;color:black\"> paranoia</span><span style=\"background-color: #FFFCFC;color:black\"> ,</span><span style=\"background-color: #FFFBFB;color:black\"> as</span><span style=\"background-color: #FFFEFE;color:black\"> the</span><span style=\"background-color: #FFCACA;color:black\"> shape</span><span style=\"background-color: #FFF7F7;color:black\"> changing</span><span style=\"background-color: #FFF5F5;color:black\"> thing</span><span style=\"background-color: #FFFDFD;color:black\"> ,</span><span style=\"background-color: #FFFDFD;color:black\"> which</span><span style=\"background-color: #FFFDFD;color:black\"> first</span><span style=\"background-color: #FFF8F8;color:black\"> comes</span><span style=\"background-color: #FFFEFE;color:black\"> to</span><span style=\"background-color: #FFFAFA;color:black\"> their</span><span style=\"background-color: #FFFDFD;color:black\"> camp</span><span style=\"background-color: #FFFDFD;color:black\"> in</span><span style=\"background-color: #FFFEFE;color:black\"> the</span><span style=\"background-color: #FFF2F2;color:black\"> form</span><span style=\"background-color: #FFFCFC;color:black\"> of</span><span style=\"background-color: #FFFDFD;color:black\"> a</span><span style=\"background-color: #FFF5F5;color:black\"> guide</span><span style=\"background-color: #FFFAFA;color:black\"> dog</span><span style=\"background-color: #FFFEFE;color:black\"> a</span><span style=\"background-color: #FFFEFE;color:black\"> norwegian</span><span style=\"background-color: #FFFEFE;color:black\"> team</span><span style=\"background-color: #FFDBDB;color:black\"> is</span><span style=\"background-color: #FFFDFD;color:black\"> trying</span><span style=\"background-color: #FFFDFD;color:black\"> to</span><span style=\"background-color: #FFF6F6;color:black\"> kill</span><span style=\"background-color: #FFFCFC;color:black\"> <eos></span><br><br>"
      ],
      "text/plain": [
       "<IPython.core.display.HTML object>"
      ]
     },
     "execution_count": 36,
     "metadata": {},
     "output_type": "execute_result"
    }
   ],
   "source": [
    "from IPython.display import HTML\n",
    "\n",
    "# Transformerで処理\n",
    "\n",
    "# ミニバッチの用意\n",
    "batch = next(iter(test_dl))\n",
    "\n",
    "# GPUが使えるならGPUにデータを送る\n",
    "inputs = batch.Text[0].to(device)  # 文章\n",
    "labels = batch.Label.to(device)  # ラベル\n",
    "\n",
    "# mask作成\n",
    "input_pad = 1  # 単語のIDにおいて、'<pad>': 1 なので\n",
    "input_mask = (inputs != input_pad)\n",
    "\n",
    "# Transformerに入力\n",
    "outputs, normlized_weights_1, normlized_weights_2 = net_trained(\n",
    "    inputs, input_mask)\n",
    "_, preds = torch.max(outputs, 1)  # ラベルを予測\n",
    "\n",
    "\n",
    "index = 3  # 出力させたいデータ\n",
    "html_output = mk_html(index, batch, preds, normlized_weights_1,\n",
    "                      normlized_weights_2, TEXT)  # HTML作成\n",
    "HTML(html_output)  # HTML形式で出力"
   ]
  },
  {
   "cell_type": "code",
   "execution_count": 38,
   "metadata": {},
   "outputs": [
    {
     "data": {
      "text/html": [
       "正解ラベル：Positive<br>推論ラベル：Negative<br><br>[TransformerBlockの1段目のAttentionを可視化]<br><span style=\"background-color: #FFF9F9;color:black\"> <cls></span><span style=\"background-color: #FFF3F3;color:black\"> this</span><span style=\"background-color: #FFE4E4;color:black\"> documentary</span><span style=\"background-color: #FFD0D0;color:black\"> traces</span><span style=\"background-color: #FFFDFD;color:black\"> the</span><span style=\"background-color: #FFF6F6;color:black\"> origins</span><span style=\"background-color: #FFFEFE;color:black\"> and</span><span style=\"background-color: #FFFAFA;color:black\"> life</span><span style=\"background-color: #FFFDFD;color:black\"> of</span><span style=\"background-color: #FFFDFD;color:black\"> the</span><span style=\"background-color: #FFFDFD;color:black\"> <unk></span><span style=\"background-color: #FFFDFD;color:black\"> <unk></span><span style=\"background-color: #FFD9D9;color:black\"> team</span><span style=\"background-color: #FFFEFE;color:black\"> ,</span><span style=\"background-color: #FFF7F7;color:black\"> using</span><span style=\"background-color: #FF9999;color:black\"> original</span><span style=\"background-color: #FFF6F6;color:black\"> film</span><span style=\"background-color: #FFFAFA;color:black\"> shot</span><span style=\"background-color: #FFFEFE;color:black\"> in</span><span style=\"background-color: #FFFEFE;color:black\"> the</span><span style=\"background-color: #FFFDFD;color:black\"> 1970s</span><span style=\"background-color: #FFFEFE;color:black\"> mostly</span><span style=\"background-color: #FFFDFD;color:black\"> by</span><span style=\"background-color: #FFF0F0;color:black\"> craig</span><span style=\"background-color: #FFFDFD;color:black\"> <unk></span><span style=\"background-color: #FFEAEA;color:black\"> combined</span><span style=\"background-color: #FFFEFE;color:black\"> with</span><span style=\"background-color: #FFFAFA;color:black\"> interviews</span><span style=\"background-color: #FFFDFD;color:black\"> of</span><span style=\"background-color: #FFFDFD;color:black\"> the</span><span style=\"background-color: #FFD6D6;color:black\"> team</span><span style=\"background-color: #FFFBFB;color:black\"> members</span><span style=\"background-color: #FFFEFE;color:black\"> and</span><span style=\"background-color: #FFFEFE;color:black\"> other</span><span style=\"background-color: #FFFAFA;color:black\"> influential</span><span style=\"background-color: #FFFCFC;color:black\"> people</span><span style=\"background-color: #FFFAFA;color:black\"> today</span><span style=\"background-color: #FFFEFE;color:black\"> .</span><span style=\"background-color: #FFFDFD;color:black\"> the</span><span style=\"background-color: #FFFBFB;color:black\"> first</span><span style=\"background-color: #FFF9F9;color:black\"> part</span><span style=\"background-color: #FFFDFD;color:black\"> of</span><span style=\"background-color: #FFFDFD;color:black\"> the</span><span style=\"background-color: #FFF4F4;color:black\"> film</span><span style=\"background-color: #FFEAEA;color:black\"> documents</span><span style=\"background-color: #FFFEFE;color:black\"> how</span><span style=\"background-color: #FFFDFD;color:black\"> the</span><span style=\"background-color: #FFFDFD;color:black\"> <unk></span><span style=\"background-color: #FFFEFE;color:black\"> section</span><span style=\"background-color: #FFFCFC;color:black\"> of</span><span style=\"background-color: #FFDBDB;color:black\"> venice</span><span style=\"background-color: #FFFEFE;color:black\"> ,</span><span style=\"background-color: #FFFCFC;color:black\"> ca</span><span style=\"background-color: #FFD9D9;color:black\"> came</span><span style=\"background-color: #FFFDFD;color:black\"> to</span><span style=\"background-color: #FFFDFD;color:black\"> be</span><span style=\"background-color: #FFFEFE;color:black\"> ,</span><span style=\"background-color: #FFF7F7;color:black\"> starting</span><span style=\"background-color: #FFF8F8;color:black\"> back</span><span style=\"background-color: #FFFCFC;color:black\"> around</span><span style=\"background-color: #FFFDFD;color:black\"> the</span><span style=\"background-color: #FFFAFA;color:black\"> turn</span><span style=\"background-color: #FFFCFC;color:black\"> of</span><span style=\"background-color: #FFFDFD;color:black\"> the</span><span style=\"background-color: #FFF5F5;color:black\"> century</span><span style=\"background-color: #FFFEFE;color:black\"> when</span><span style=\"background-color: #FFFDFD;color:black\"> the</span><span style=\"background-color: #FFFDFD;color:black\"> town</span><span style=\"background-color: #FFF4F4;color:black\"> was</span><span style=\"background-color: #FFF1F1;color:black\"> created</span><span style=\"background-color: #FFFDFD;color:black\"> to</span><span style=\"background-color: #FFFDFD;color:black\"> be</span><span style=\"background-color: #FFFBFB;color:black\"> a</span><span style=\"background-color: #FFDDDD;color:black\"> venice</span><span style=\"background-color: #FFFEFE;color:black\"> ,</span><span style=\"background-color: #FFF1F1;color:black\"> italy</span><span style=\"background-color: #FFF8F8;color:black\"> like</span><span style=\"background-color: #FFFAFA;color:black\"> european</span><span style=\"background-color: #FFFDFD;color:black\"> city</span><span style=\"background-color: #FFFEFE;color:black\"> .</span><span style=\"background-color: #FFFDFD;color:black\"> by</span><span style=\"background-color: #FFFDFD;color:black\"> the</span><span style=\"background-color: #FFF2F2;color:black\"> 1970</span><span style=\"background-color: #FFFBFB;color:black\"> s</span><span style=\"background-color: #FFFEFE;color:black\"> ,</span><span style=\"background-color: #FFFCFC;color:black\"> the</span><span style=\"background-color: #FFFAFA;color:black\"> one</span><span style=\"background-color: #FFFDFD;color:black\"> remaining</span><span style=\"background-color: #FFFAFA;color:black\"> local</span><span style=\"background-color: #FFF6F6;color:black\"> attraction</span><span style=\"background-color: #FFFEFE;color:black\"> ,</span><span style=\"background-color: #FFFDFD;color:black\"> the</span><span style=\"background-color: #FFF7F7;color:black\"> pacific</span><span style=\"background-color: #FFF8F8;color:black\"> ocean</span><span style=\"background-color: #FFF7F7;color:black\"> park</span><span style=\"background-color: #FFFEFE;color:black\"> ,</span><span style=\"background-color: #FFD9D9;color:black\"> had</span><span style=\"background-color: #FFCECE;color:black\"> been</span><span style=\"background-color: #FFF0F0;color:black\"> abandoned</span><span style=\"background-color: #FFFEFE;color:black\"> ,</span><span style=\"background-color: #FFFEFE;color:black\"> leaving</span><span style=\"background-color: #FFFBFB;color:black\"> a</span><span style=\"background-color: #FFF5F5;color:black\"> beach</span><span style=\"background-color: #FFFEFE;color:black\"> with</span><span style=\"background-color: #FFF8F8;color:black\"> lots</span><span style=\"background-color: #FFFCFC;color:black\"> of</span><span style=\"background-color: #FFFCFC;color:black\"> exposed</span><span style=\"background-color: #FFFBFB;color:black\"> <unk></span><span style=\"background-color: #FFFEFE;color:black\"> and</span><span style=\"background-color: #FFFDFD;color:black\"> other</span><span style=\"background-color: #FFFAFA;color:black\"> <unk></span><span style=\"background-color: #FFFEFE;color:black\"> .</span><span style=\"background-color: #FFFDFD;color:black\"> the</span><span style=\"background-color: #FFF7F7;color:black\"> poor</span><span style=\"background-color: #FFF7F7;color:black\"> kids</span><span style=\"background-color: #FFE7E7;color:black\"> living</span><span style=\"background-color: #FFFEFE;color:black\"> in</span><span style=\"background-color: #FFFDFD;color:black\"> the</span><span style=\"background-color: #FFFBFB;color:black\"> area</span><span style=\"background-color: #FFE6E6;color:black\"> had</span><span style=\"background-color: #FFF4F4;color:black\"> nothing</span><span style=\"background-color: #FFE5E5;color:black\"> better</span><span style=\"background-color: #FFFDFD;color:black\"> to</span><span style=\"background-color: #FFFCFC;color:black\"> do</span><span style=\"background-color: #FFFCFC;color:black\"> than</span><span style=\"background-color: #FFFCFC;color:black\"> surf</span><span style=\"background-color: #FFFEFE;color:black\"> ,</span><span style=\"background-color: #FFFEFE;color:black\"> and</span><span style=\"background-color: #FFFCFC;color:black\"> they</span><span style=\"background-color: #FFFCFC;color:black\"> <unk></span><span style=\"background-color: #FFEDED;color:black\"> despite</span><span style=\"background-color: #FFFEFE;color:black\"> or</span><span style=\"background-color: #FFFEFE;color:black\"> perhaps</span><span style=\"background-color: #FFFDFD;color:black\"> because</span><span style=\"background-color: #FFFDFD;color:black\"> of</span><span style=\"background-color: #FFF7F7;color:black\"> their</span><span style=\"background-color: #FFEDED;color:black\"> surroundings</span><span style=\"background-color: #FFFEFE;color:black\"> .</span><span style=\"background-color: #FFFDFD;color:black\"> because</span><span style=\"background-color: #FFFDFD;color:black\"> the</span><span style=\"background-color: #FFFBFB;color:black\"> waves</span><span style=\"background-color: #FFFDFD;color:black\"> <unk></span><span style=\"background-color: #FFFEFE;color:black\"> in</span><span style=\"background-color: #FFFDFD;color:black\"> the</span><span style=\"background-color: #FFFDFD;color:black\"> afternoon</span><span style=\"background-color: #FFFEFE;color:black\"> ,</span><span style=\"background-color: #FFFCFC;color:black\"> they</span><span style=\"background-color: #FFF2F2;color:black\"> took</span><span style=\"background-color: #FFF7F7;color:black\"> up</span><span style=\"background-color: #FFFDFD;color:black\"> <unk></span><span style=\"background-color: #FFFDFD;color:black\"> to</span><span style=\"background-color: #FFFAFA;color:black\"> fill</span><span style=\"background-color: #FFF0F0;color:black\"> their</span><span style=\"background-color: #FFEFEF;color:black\"> time</span><span style=\"background-color: #FFFEFE;color:black\"> ,</span><span style=\"background-color: #FFFEFE;color:black\"> and</span><span style=\"background-color: #FFFCFC;color:black\"> the</span><span style=\"background-color: #FFF0F0;color:black\"> empty</span><span style=\"background-color: #FFE1E1;color:black\"> swimming</span><span style=\"background-color: #FFFDFD;color:black\"> <unk></span><span style=\"background-color: #FFE6E6;color:black\"> caused</span><span style=\"background-color: #FFFDFD;color:black\"> by</span><span style=\"background-color: #FFFDFD;color:black\"> the</span><span style=\"background-color: #FFB3B3;color:black\"> drought</span><span style=\"background-color: #FFFEFE;color:black\"> during</span><span style=\"background-color: #FFFDFD;color:black\"> those</span><span style=\"background-color: #FFFDFD;color:black\"> years</span><span style=\"background-color: #FFFDFD;color:black\"> plus</span><span style=\"background-color: #FFF4F4;color:black\"> their</span><span style=\"background-color: #FFFAFA;color:black\"> surfing</span><span style=\"background-color: #FFF7F7;color:black\"> backgrounds</span><span style=\"background-color: #FFBFBF;color:black\"> led</span><span style=\"background-color: #FFFBFB;color:black\"> them</span><span style=\"background-color: #FFFDFD;color:black\"> to</span><span style=\"background-color: #FFF8F8;color:black\"> create</span><span style=\"background-color: #FFFDFD;color:black\"> the</span><span style=\"background-color: #FFFCFC;color:black\"> <unk></span><span style=\"background-color: #FFFCFC;color:black\"> <unk></span><span style=\"background-color: #FFF9F9;color:black\"> style</span><span style=\"background-color: #FFFDFD;color:black\"> that</span><span style=\"background-color: #FFFBFB;color:black\"> is</span><span style=\"background-color: #FFF5F5;color:black\"> mainstream</span><span style=\"background-color: #FFFBFB;color:black\"> today</span><span style=\"background-color: #FFFEFE;color:black\"> .</span><span style=\"background-color: #FFFCFC;color:black\"> i</span><span style=\"background-color: #FFD7D7;color:black\"> found</span><span style=\"background-color: #FFFCFC;color:black\"> that</span><span style=\"background-color: #FFFCFC;color:black\"> the</span><span style=\"background-color: #FFF0F0;color:black\"> film</span><span style=\"background-color: #FFFAFA;color:black\"> covered</span><span style=\"background-color: #FFFCFC;color:black\"> much</span><span style=\"background-color: #FFFEFE;color:black\"> more</span><span style=\"background-color: #FFFEFE;color:black\"> about</span><span style=\"background-color: #FFFAFA;color:black\"> surfing</span><span style=\"background-color: #FFFBFB;color:black\"> than</span><span style=\"background-color: #FFFCFC;color:black\"> i</span><span style=\"background-color: #FFE0E0;color:black\"> expected</span><span style=\"background-color: #FFFEFE;color:black\"> ,</span><span style=\"background-color: #FFFEFE;color:black\"> which</span><span style=\"background-color: #FFD6D6;color:black\"> seemed</span><span style=\"background-color: #FFFAFA;color:black\"> like</span><span style=\"background-color: #FFFBFB;color:black\"> a</span><span style=\"background-color: #FFF9F9;color:black\"> bonus</span><span style=\"background-color: #FFFBFB;color:black\"> since</span><span style=\"background-color: #FFFCFC;color:black\"> i</span><span style=\"background-color: #FFEFEF;color:black\"> really</span><span style=\"background-color: #FFE0E0;color:black\"> didn</span><span style=\"background-color: #FFF6F6;color:black\"> t</span><span style=\"background-color: #FFFAFA;color:black\"> know</span><span style=\"background-color: #FFFBFB;color:black\"> much</span><span style=\"background-color: #FFFDFD;color:black\"> about</span><span style=\"background-color: #FFF8F8;color:black\"> surfing</span><span style=\"background-color: #FFFEFE;color:black\"> or</span><span style=\"background-color: #FFFBFB;color:black\"> <unk></span><span style=\"background-color: #FFFDFD;color:black\"> before</span><span style=\"background-color: #FFFDFD;color:black\"> i</span><span style=\"background-color: #FFF0F0;color:black\"> watched</span><span style=\"background-color: #FFFDFD;color:black\"> the</span><span style=\"background-color: #FFF3F3;color:black\"> film</span><span style=\"background-color: #FFFEFE;color:black\"> .</span><span style=\"background-color: #FFFCFC;color:black\"> the</span><span style=\"background-color: #FFDDDD;color:black\"> soundtrack</span><span style=\"background-color: #FFFEFE;color:black\"> ,</span><span style=\"background-color: #FFDFDF;color:black\"> not</span><span style=\"background-color: #FFF4F4;color:black\"> surprisingly</span><span style=\"background-color: #FFFEFE;color:black\"> ,</span><span style=\"background-color: #FFEEEE;color:black\"> was</span><span style=\"background-color: #FF7C7C;color:black\"> good</span><span style=\"background-color: #FFFEFE;color:black\"> as</span><span style=\"background-color: #FFFAFA;color:black\"> well</span><span style=\"background-color: #FFFEFE;color:black\"> .</span><span style=\"background-color: #FFFCFC;color:black\"> i</span><span style=\"background-color: #FFF8F8;color:black\"> also</span><span style=\"background-color: #FF0000;color:black\"> liked</span><span style=\"background-color: #FFFEFE;color:black\"> how</span><span style=\"background-color: #FFFAFA;color:black\"> these</span><span style=\"background-color: #FFF4F4;color:black\"> kids</span><span style=\"background-color: #FFF0F0;color:black\"> were</span><span style=\"background-color: #FFF3F3;color:black\"> just</span><span style=\"background-color: #FFFEFE;color:black\"> following</span><span style=\"background-color: #FFF5F5;color:black\"> their</span><span style=\"background-color: #FFCECE;color:black\"> passion</span><span style=\"background-color: #FFFEFE;color:black\"> and</span><span style=\"background-color: #FFF8F8;color:black\"> generally</span><span style=\"background-color: #FFDFDF;color:black\"> ended</span><span style=\"background-color: #FFF6F6;color:black\"> up</span><span style=\"background-color: #FFE0E0;color:black\"> better</span><span style=\"background-color: #FFFAFA;color:black\"> off</span><span style=\"background-color: #FFFDFD;color:black\"> for</span><span style=\"background-color: #FFFCFC;color:black\"> the</span><span style=\"background-color: #FFD1D1;color:black\"> experience</span><span style=\"background-color: #FFFEFE;color:black\"> .</span><span style=\"background-color: #FFFCFC;color:black\"> the</span><span style=\"background-color: #FFF2F2;color:black\"> parts</span><span style=\"background-color: #FFFCFC;color:black\"> that</span><span style=\"background-color: #FFF9F9;color:black\"> <eos></span><br><br>[TransformerBlockの2段目のAttentionを可視化]<br><span style=\"background-color: #FFFEFE;color:black\"> <cls></span><span style=\"background-color: #FFF9F9;color:black\"> this</span><span style=\"background-color: #FFFDFD;color:black\"> documentary</span><span style=\"background-color: #FFFAFA;color:black\"> traces</span><span style=\"background-color: #FFFEFE;color:black\"> the</span><span style=\"background-color: #FFFBFB;color:black\"> origins</span><span style=\"background-color: #FFFEFE;color:black\"> and</span><span style=\"background-color: #FFFCFC;color:black\"> life</span><span style=\"background-color: #FFFDFD;color:black\"> of</span><span style=\"background-color: #FFFEFE;color:black\"> the</span><span style=\"background-color: #FFFEFE;color:black\"> <unk></span><span style=\"background-color: #FFFEFE;color:black\"> <unk></span><span style=\"background-color: #FFFEFE;color:black\"> team</span><span style=\"background-color: #FFFEFE;color:black\"> ,</span><span style=\"background-color: #FFFDFD;color:black\"> using</span><span style=\"background-color: #FFFDFD;color:black\"> original</span><span style=\"background-color: #FFFDFD;color:black\"> film</span><span style=\"background-color: #FFFDFD;color:black\"> shot</span><span style=\"background-color: #FFFEFE;color:black\"> in</span><span style=\"background-color: #FFFEFE;color:black\"> the</span><span style=\"background-color: #FFFDFD;color:black\"> 1970s</span><span style=\"background-color: #FFFAFA;color:black\"> mostly</span><span style=\"background-color: #FFFDFD;color:black\"> by</span><span style=\"background-color: #FFFEFE;color:black\"> craig</span><span style=\"background-color: #FFFBFB;color:black\"> <unk></span><span style=\"background-color: #FFFBFB;color:black\"> combined</span><span style=\"background-color: #FFFDFD;color:black\"> with</span><span style=\"background-color: #FFFEFE;color:black\"> interviews</span><span style=\"background-color: #FFFDFD;color:black\"> of</span><span style=\"background-color: #FFFEFE;color:black\"> the</span><span style=\"background-color: #FFFEFE;color:black\"> team</span><span style=\"background-color: #FFFDFD;color:black\"> members</span><span style=\"background-color: #FFFEFE;color:black\"> and</span><span style=\"background-color: #FFF9F9;color:black\"> other</span><span style=\"background-color: #FFFDFD;color:black\"> influential</span><span style=\"background-color: #FFF8F8;color:black\"> people</span><span style=\"background-color: #FFFDFD;color:black\"> today</span><span style=\"background-color: #FFFCFC;color:black\"> .</span><span style=\"background-color: #FFFEFE;color:black\"> the</span><span style=\"background-color: #FFFEFE;color:black\"> first</span><span style=\"background-color: #FFFDFD;color:black\"> part</span><span style=\"background-color: #FFFDFD;color:black\"> of</span><span style=\"background-color: #FFFEFE;color:black\"> the</span><span style=\"background-color: #FFFDFD;color:black\"> film</span><span style=\"background-color: #FFFDFD;color:black\"> documents</span><span style=\"background-color: #FFD9D9;color:black\"> how</span><span style=\"background-color: #FFFEFE;color:black\"> the</span><span style=\"background-color: #FFFEFE;color:black\"> <unk></span><span style=\"background-color: #FFFEFE;color:black\"> section</span><span style=\"background-color: #FFFDFD;color:black\"> of</span><span style=\"background-color: #FFFEFE;color:black\"> venice</span><span style=\"background-color: #FFFDFD;color:black\"> ,</span><span style=\"background-color: #FFFEFE;color:black\"> ca</span><span style=\"background-color: #FFFEFE;color:black\"> came</span><span style=\"background-color: #FFFEFE;color:black\"> to</span><span style=\"background-color: #FFF8F8;color:black\"> be</span><span style=\"background-color: #FFFDFD;color:black\"> ,</span><span style=\"background-color: #FFFEFE;color:black\"> starting</span><span style=\"background-color: #FFFCFC;color:black\"> back</span><span style=\"background-color: #FFFDFD;color:black\"> around</span><span style=\"background-color: #FFFEFE;color:black\"> the</span><span style=\"background-color: #FFF9F9;color:black\"> turn</span><span style=\"background-color: #FFFDFD;color:black\"> of</span><span style=\"background-color: #FFFEFE;color:black\"> the</span><span style=\"background-color: #FFF8F8;color:black\"> century</span><span style=\"background-color: #FFFCFC;color:black\"> when</span><span style=\"background-color: #FFFEFE;color:black\"> the</span><span style=\"background-color: #FFFEFE;color:black\"> town</span><span style=\"background-color: #FFFEFE;color:black\"> was</span><span style=\"background-color: #FFFDFD;color:black\"> created</span><span style=\"background-color: #FFFEFE;color:black\"> to</span><span style=\"background-color: #FFF8F8;color:black\"> be</span><span style=\"background-color: #FFFCFC;color:black\"> a</span><span style=\"background-color: #FFFEFE;color:black\"> venice</span><span style=\"background-color: #FFFDFD;color:black\"> ,</span><span style=\"background-color: #FFFEFE;color:black\"> italy</span><span style=\"background-color: #FFFBFB;color:black\"> like</span><span style=\"background-color: #FFFEFE;color:black\"> european</span><span style=\"background-color: #FFFEFE;color:black\"> city</span><span style=\"background-color: #FFFCFC;color:black\"> .</span><span style=\"background-color: #FFFDFD;color:black\"> by</span><span style=\"background-color: #FFFEFE;color:black\"> the</span><span style=\"background-color: #FFFEFE;color:black\"> 1970</span><span style=\"background-color: #FFFAFA;color:black\"> s</span><span style=\"background-color: #FFFDFD;color:black\"> ,</span><span style=\"background-color: #FFFEFE;color:black\"> the</span><span style=\"background-color: #FFF7F7;color:black\"> one</span><span style=\"background-color: #FFF9F9;color:black\"> remaining</span><span style=\"background-color: #FFFEFE;color:black\"> local</span><span style=\"background-color: #FFFEFE;color:black\"> attraction</span><span style=\"background-color: #FFFDFD;color:black\"> ,</span><span style=\"background-color: #FFFEFE;color:black\"> the</span><span style=\"background-color: #FFF2F2;color:black\"> pacific</span><span style=\"background-color: #FFFCFC;color:black\"> ocean</span><span style=\"background-color: #FFFEFE;color:black\"> park</span><span style=\"background-color: #FFFDFD;color:black\"> ,</span><span style=\"background-color: #FFFEFE;color:black\"> had</span><span style=\"background-color: #FFFEFE;color:black\"> been</span><span style=\"background-color: #FFF8F8;color:black\"> abandoned</span><span style=\"background-color: #FFFEFE;color:black\"> ,</span><span style=\"background-color: #FFFEFE;color:black\"> leaving</span><span style=\"background-color: #FFFDFD;color:black\"> a</span><span style=\"background-color: #FFFDFD;color:black\"> beach</span><span style=\"background-color: #FFFDFD;color:black\"> with</span><span style=\"background-color: #FFFCFC;color:black\"> lots</span><span style=\"background-color: #FFFDFD;color:black\"> of</span><span style=\"background-color: #FFF1F1;color:black\"> exposed</span><span style=\"background-color: #FFFDFD;color:black\"> <unk></span><span style=\"background-color: #FFFEFE;color:black\"> and</span><span style=\"background-color: #FFF8F8;color:black\"> other</span><span style=\"background-color: #FFFEFE;color:black\"> <unk></span><span style=\"background-color: #FFFDFD;color:black\"> .</span><span style=\"background-color: #FFFEFE;color:black\"> the</span><span style=\"background-color: #FF0000;color:black\"> poor</span><span style=\"background-color: #FFFDFD;color:black\"> kids</span><span style=\"background-color: #FFFEFE;color:black\"> living</span><span style=\"background-color: #FFFDFD;color:black\"> in</span><span style=\"background-color: #FFFEFE;color:black\"> the</span><span style=\"background-color: #FFFEFE;color:black\"> area</span><span style=\"background-color: #FFFEFE;color:black\"> had</span><span style=\"background-color: #FF7A7A;color:black\"> nothing</span><span style=\"background-color: #FF6969;color:black\"> better</span><span style=\"background-color: #FFFEFE;color:black\"> to</span><span style=\"background-color: #FFFCFC;color:black\"> do</span><span style=\"background-color: #FFFCFC;color:black\"> than</span><span style=\"background-color: #FFFCFC;color:black\"> surf</span><span style=\"background-color: #FFFDFD;color:black\"> ,</span><span style=\"background-color: #FFFEFE;color:black\"> and</span><span style=\"background-color: #FFFCFC;color:black\"> they</span><span style=\"background-color: #FFFEFE;color:black\"> <unk></span><span style=\"background-color: #FFBFBF;color:black\"> despite</span><span style=\"background-color: #FFF9F9;color:black\"> or</span><span style=\"background-color: #FFEEEE;color:black\"> perhaps</span><span style=\"background-color: #FFFCFC;color:black\"> because</span><span style=\"background-color: #FFFDFD;color:black\"> of</span><span style=\"background-color: #FFF8F8;color:black\"> their</span><span style=\"background-color: #FFF7F7;color:black\"> surroundings</span><span style=\"background-color: #FFFCFC;color:black\"> .</span><span style=\"background-color: #FFF9F9;color:black\"> because</span><span style=\"background-color: #FFFEFE;color:black\"> the</span><span style=\"background-color: #FFFAFA;color:black\"> waves</span><span style=\"background-color: #FFFEFE;color:black\"> <unk></span><span style=\"background-color: #FFFEFE;color:black\"> in</span><span style=\"background-color: #FFFEFE;color:black\"> the</span><span style=\"background-color: #FFF9F9;color:black\"> afternoon</span><span style=\"background-color: #FFFDFD;color:black\"> ,</span><span style=\"background-color: #FFFCFC;color:black\"> they</span><span style=\"background-color: #FFFEFE;color:black\"> took</span><span style=\"background-color: #FFFDFD;color:black\"> up</span><span style=\"background-color: #FFFDFD;color:black\"> <unk></span><span style=\"background-color: #FFFEFE;color:black\"> to</span><span style=\"background-color: #FFE6E6;color:black\"> fill</span><span style=\"background-color: #FFF7F7;color:black\"> their</span><span style=\"background-color: #FFFCFC;color:black\"> time</span><span style=\"background-color: #FFFDFD;color:black\"> ,</span><span style=\"background-color: #FFFEFE;color:black\"> and</span><span style=\"background-color: #FFFEFE;color:black\"> the</span><span style=\"background-color: #FFB7B7;color:black\"> empty</span><span style=\"background-color: #FFFDFD;color:black\"> swimming</span><span style=\"background-color: #FFFEFE;color:black\"> <unk></span><span style=\"background-color: #FFFEFE;color:black\"> caused</span><span style=\"background-color: #FFFEFE;color:black\"> by</span><span style=\"background-color: #FFFEFE;color:black\"> the</span><span style=\"background-color: #FFF6F6;color:black\"> drought</span><span style=\"background-color: #FFFDFD;color:black\"> during</span><span style=\"background-color: #FFF9F9;color:black\"> those</span><span style=\"background-color: #FFFDFD;color:black\"> years</span><span style=\"background-color: #FFFDFD;color:black\"> plus</span><span style=\"background-color: #FFF5F5;color:black\"> their</span><span style=\"background-color: #FFFDFD;color:black\"> surfing</span><span style=\"background-color: #FFF8F8;color:black\"> backgrounds</span><span style=\"background-color: #FFFEFE;color:black\"> led</span><span style=\"background-color: #FFFBFB;color:black\"> them</span><span style=\"background-color: #FFFEFE;color:black\"> to</span><span style=\"background-color: #FFF6F6;color:black\"> create</span><span style=\"background-color: #FFFEFE;color:black\"> the</span><span style=\"background-color: #FFFCFC;color:black\"> <unk></span><span style=\"background-color: #FFFBFB;color:black\"> <unk></span><span style=\"background-color: #FFFBFB;color:black\"> style</span><span style=\"background-color: #FFF7F7;color:black\"> that</span><span style=\"background-color: #FFEAEA;color:black\"> is</span><span style=\"background-color: #FFFCFC;color:black\"> mainstream</span><span style=\"background-color: #FFFDFD;color:black\"> today</span><span style=\"background-color: #FFFBFB;color:black\"> .</span><span style=\"background-color: #FFFDFD;color:black\"> i</span><span style=\"background-color: #FFFEFE;color:black\"> found</span><span style=\"background-color: #FFFAFA;color:black\"> that</span><span style=\"background-color: #FFFEFE;color:black\"> the</span><span style=\"background-color: #FFFDFD;color:black\"> film</span><span style=\"background-color: #FFFCFC;color:black\"> covered</span><span style=\"background-color: #FF9F9F;color:black\"> much</span><span style=\"background-color: #FFCECE;color:black\"> more</span><span style=\"background-color: #FFFBFB;color:black\"> about</span><span style=\"background-color: #FFFDFD;color:black\"> surfing</span><span style=\"background-color: #FFFDFD;color:black\"> than</span><span style=\"background-color: #FFFDFD;color:black\"> i</span><span style=\"background-color: #FFFBFB;color:black\"> expected</span><span style=\"background-color: #FFFDFD;color:black\"> ,</span><span style=\"background-color: #FFFDFD;color:black\"> which</span><span style=\"background-color: #FFF3F3;color:black\"> seemed</span><span style=\"background-color: #FFF9F9;color:black\"> like</span><span style=\"background-color: #FFFAFA;color:black\"> a</span><span style=\"background-color: #FFFEFE;color:black\"> bonus</span><span style=\"background-color: #FFFAFA;color:black\"> since</span><span style=\"background-color: #FFFCFC;color:black\"> i</span><span style=\"background-color: #FFEFEF;color:black\"> really</span><span style=\"background-color: #FFFEFE;color:black\"> didn</span><span style=\"background-color: #FFEFEF;color:black\"> t</span><span style=\"background-color: #FFF9F9;color:black\"> know</span><span style=\"background-color: #FF9898;color:black\"> much</span><span style=\"background-color: #FFFAFA;color:black\"> about</span><span style=\"background-color: #FFFDFD;color:black\"> surfing</span><span style=\"background-color: #FFF8F8;color:black\"> or</span><span style=\"background-color: #FFFDFD;color:black\"> <unk></span><span style=\"background-color: #FFFEFE;color:black\"> before</span><span style=\"background-color: #FFFDFD;color:black\"> i</span><span style=\"background-color: #FFFAFA;color:black\"> watched</span><span style=\"background-color: #FFFEFE;color:black\"> the</span><span style=\"background-color: #FFFDFD;color:black\"> film</span><span style=\"background-color: #FFFCFC;color:black\"> .</span><span style=\"background-color: #FFFEFE;color:black\"> the</span><span style=\"background-color: #FFFBFB;color:black\"> soundtrack</span><span style=\"background-color: #FFFDFD;color:black\"> ,</span><span style=\"background-color: #FFF9F9;color:black\"> not</span><span style=\"background-color: #FF0202;color:black\"> surprisingly</span><span style=\"background-color: #FFFBFB;color:black\"> ,</span><span style=\"background-color: #FFFDFD;color:black\"> was</span><span style=\"background-color: #FF8282;color:black\"> good</span><span style=\"background-color: #FFF8F8;color:black\"> as</span><span style=\"background-color: #FFA4A4;color:black\"> well</span><span style=\"background-color: #FFFCFC;color:black\"> .</span><span style=\"background-color: #FFFCFC;color:black\"> i</span><span style=\"background-color: #FFFDFD;color:black\"> also</span><span style=\"background-color: #FFFDFD;color:black\"> liked</span><span style=\"background-color: #FFD1D1;color:black\"> how</span><span style=\"background-color: #FFEDED;color:black\"> these</span><span style=\"background-color: #FFFCFC;color:black\"> kids</span><span style=\"background-color: #FFFDFD;color:black\"> were</span><span style=\"background-color: #FFFCFC;color:black\"> just</span><span style=\"background-color: #FFFEFE;color:black\"> following</span><span style=\"background-color: #FFF6F6;color:black\"> their</span><span style=\"background-color: #FFEFEF;color:black\"> passion</span><span style=\"background-color: #FFFDFD;color:black\"> and</span><span style=\"background-color: #FFF2F2;color:black\"> generally</span><span style=\"background-color: #FFFBFB;color:black\"> ended</span><span style=\"background-color: #FFFBFB;color:black\"> up</span><span style=\"background-color: #FF6161;color:black\"> better</span><span style=\"background-color: #FFF1F1;color:black\"> off</span><span style=\"background-color: #FFFDFD;color:black\"> for</span><span style=\"background-color: #FFFEFE;color:black\"> the</span><span style=\"background-color: #FFF9F9;color:black\"> experience</span><span style=\"background-color: #FFFBFB;color:black\"> .</span><span style=\"background-color: #FFFEFE;color:black\"> the</span><span style=\"background-color: #FFF9F9;color:black\"> parts</span><span style=\"background-color: #FFF7F7;color:black\"> that</span><span style=\"background-color: #FFFCFC;color:black\"> <eos></span><br><br>"
      ],
      "text/plain": [
       "<IPython.core.display.HTML object>"
      ]
     },
     "execution_count": 38,
     "metadata": {},
     "output_type": "execute_result"
    }
   ],
   "source": [
    "index = 4  # 出力させたいデータ\n",
    "html_output = mk_html(index, batch, preds, normlized_weights_1,\n",
    "                      normlized_weights_2, TEXT)  # HTML作成\n",
    "HTML(html_output)  # HTML形式で出力"
   ]
  },
  {
   "cell_type": "code",
   "execution_count": null,
   "metadata": {},
   "outputs": [],
   "source": []
  },
  {
   "cell_type": "code",
   "execution_count": null,
   "metadata": {},
   "outputs": [],
   "source": []
  },
  {
   "cell_type": "code",
   "execution_count": null,
   "metadata": {},
   "outputs": [],
   "source": []
  },
  {
   "cell_type": "code",
   "execution_count": null,
   "metadata": {},
   "outputs": [],
   "source": []
  }
 ],
 "metadata": {
  "kernelspec": {
   "display_name": "Python 3",
   "language": "python",
   "name": "python3"
  },
  "language_info": {
   "codemirror_mode": {
    "name": "ipython",
    "version": 3
   },
   "file_extension": ".py",
   "mimetype": "text/x-python",
   "name": "python",
   "nbconvert_exporter": "python",
   "pygments_lexer": "ipython3",
   "version": "3.7.4"
  },
  "toc": {
   "base_numbering": 1,
   "nav_menu": {},
   "number_sections": true,
   "sideBar": true,
   "skip_h1_title": false,
   "title_cell": "Table of Contents",
   "title_sidebar": "Contents",
   "toc_cell": false,
   "toc_position": {},
   "toc_section_display": true,
   "toc_window_display": false
  },
  "varInspector": {
   "cols": {
    "lenName": 16,
    "lenType": 16,
    "lenVar": 40
   },
   "kernels_config": {
    "python": {
     "delete_cmd_postfix": "",
     "delete_cmd_prefix": "del ",
     "library": "var_list.py",
     "varRefreshCmd": "print(var_dic_list())"
    },
    "r": {
     "delete_cmd_postfix": ") ",
     "delete_cmd_prefix": "rm(",
     "library": "var_list.r",
     "varRefreshCmd": "cat(var_dic_list()) "
    }
   },
   "position": {
    "height": "352px",
    "left": "1508px",
    "right": "20px",
    "top": "124px",
    "width": "350px"
   },
   "types_to_exclude": [
    "module",
    "function",
    "builtin_function_or_method",
    "instance",
    "_Feature"
   ],
   "window_display": false
  }
 },
 "nbformat": 4,
 "nbformat_minor": 4
}
